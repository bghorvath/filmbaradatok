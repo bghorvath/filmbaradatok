{
 "cells": [
  {
   "cell_type": "code",
   "execution_count": 2,
   "metadata": {},
   "outputs": [],
   "source": [
    "import json\n",
    "\n",
    "from sklearn.feature_extraction.text import TfidfVectorizer"
   ]
  },
  {
   "cell_type": "code",
   "execution_count": 3,
   "metadata": {},
   "outputs": [],
   "source": [
    "with open(\"transcript.json\", \"r\") as f:\n",
    "    transcript = json.load(f)"
   ]
  },
  {
   "cell_type": "code",
   "execution_count": 4,
   "metadata": {},
   "outputs": [],
   "source": [
    "tfidf = TfidfVectorizer()"
   ]
  },
  {
   "cell_type": "code",
   "execution_count": 5,
   "metadata": {},
   "outputs": [
    {
     "data": {
      "text/plain": [
       "[{'start': 0.0,\n",
       "  'end': 86.6,\n",
       "  'speaker': 'FreddyD',\n",
       "  'text': ' 🎧  Jó filmbarátok, po-po-po-potket!  Külte nekünk Kónya Z, ismételten a sokadik szignálja már ezt a hip-hop DJ-s beköszönést,  és ezzel üdvözlünk beneteket, ez a Filmbarátok 241.  Per pillanat hárman vagyunk, de elvileg majd hamarosan négyen is leszünk,  de a Black Sheep az kicsit késik, de mondta, hogy kezdjük el.  Úgyhogy ahogy hallottátok, ő most per pillanat nincs itt, de itt van cserébe Gergő.  Sziasztok!  Szorter.  Papaja!  És harmadiknak én, Freddy.  Csá!  Na, hát még mielőtt belegezdünk itt az általános infók meg minden.  Gergő, te most tegnap jöttél vissza egy mini utazásról, mini nyaralásról, ha lehet így mondani.  Amsterdamban voltál, és még mi sem beszéltünk semmit,  mert az adást tartogattuk, hogy egy kis élménybe számolod, hogy hogy tetszett, mit láttál,  és mi teljesen más oda át?'},\n",
       " {'start': 86.6,\n",
       "  'end': 491.3,\n",
       "  'speaker': 'Gergő',\n",
       "  'text': ' Hát igen, mert én amúgy idén nem voltam nyaralni, úgyhogy nekem tulajdonképpen ez volt az idei utazásom,  hogy ezt így összebeszéltük a barátokkal, mert az egyik haverom, ő már volt háromszor a mennyasszonyával,  vagy feleségével Hollandijában, és hát úgy gondolta, hogy ez inkább egy ilyen haveros program,  úgyhogy így leszerveztük meg, beszéltük ezt, hogy elmegyünk együtt, és akkor csak fiúk így öten.  És hát egy ilyen három hónap alatt szerveztük meg, hogy tudod, a repülőjegyet is úgy foglaltuk,  hogy másnap már bejelentették ezt, hogy akkor ezt a extra profitadót ugye beszedik a repülőjegyeken,  és mi még azelőtt akkor megvettük, hogy minket ez érintett volna.  Csak nekem ugye ez egy eléggé paraszitu volt így a múlt héten, mert hogy én,  hát így hétvörölyére éreztem, hogy kezdek lebetegedni, és hétvöröld kedve virradóan be is lázasodtam,  tehát egy ilyen 38 fokos lázam így beugrott, fájtak a tagjai mindent, tehát eléggé szarul voltam, de nem Covid volt,  és hát szombaton ment volna a repülőnk, és így fogalmam sem volt, hogy én meg fogok-e addig gyógyulni,  de rohadt nagy szerencsém volt azzal, hogy úgy csütörtökre szinte teljesen tünetmentes voltam,  pénteken meg már tényleg úgy éreztem, hogyha ma mennék, akkor is már tök jó lenne,  úgyhogy szombaton akkor mentünk, ugye először Szegedről Budapestre, aztán Budapestre repülőnk ment Eindhovenbe,  és Eindhovenből átvonatoztunk Amsterdamba egy másfél óra alatt,  és ugye még Eindhovenben belül is kellett egy jó fél órát buszhozni,  úgyhogy igazából minden közlekedési eszközt használtunk, ami elképzelhető egy ezen a fronton.  Azt kell mondani, hogy Amsterdam maga az egy nagyon-nagyon szép város, tehát így, hogyha az ember már látott ilyen olyan filmeket vagy képeket,  tehát pontosan olyan, minden ház szinte ugyanúgy ilyen nagyon keskeny, ilyen emeletes házak vannak,  ugye egymás mellett ilyen társasházak, és ott érdekélyenek az emberek, az utcák nagyon szűkek,  rengeteg sétáló utca van, minden biciklisekkel van tele, és autót alig-alig látni.  A legtöbb autó, amit láttál, az is, mint parkolt, tehát mozgásban sem nagyon láttál autót.  Hát ugye ez az egyik ilyen nevezetessége Hollandiának, meg Amsterdamnak a maga a biciklis közlekedés,  és ez az a dolog, ami szerint egy picit élhetetlené is teszi.  Tehát én nem laknék Amsterdamban, mert tényleg egy olyan apokaliptikus bicikli helyzet van ott,  hogy így zöldre vált a lámpa, és 90 biciklis nem túlzok annyi szágult át olyankor a lámpánál,  az autós forgalmaz meg van baszva, tehát azok várják azt, hogy a biciklisek elmennek,  és arról is meg vagyok győződve, hogy volt egyszer egy, nem régen Amsterdamban egy nagyon véres polgárháború,  amit a biciklisek nyertek meg, és ezáltal ők mindenféle előjogot maguknak követeltek.  Ez azt jelenti, hogy a biciklisek nem fékeznek, a biciklis megy.  Hogyha ti 40-en mentek a járdán, ő nem lassít le, ő csenget, és jön.  És hogyha szerencsére van félreugrasz, hanem akkor meg, ja, megtapasztalat, hogy milyen az, amikor sarkadnak vágódik egy 2000 eurós vas szerkezet.  Tapasztalat?  Hát szerencsére nem szálltak belém, mert én már az elején láttam, hogy úristen, én itt féltem az életemet,  úgyhogy háromszor körbenéztem, amikor megyek vezetni, akkor nem figyelek annyira, mint Amsterdamban a biciklisekre.  És a biciklisek meg így élnek is ezzel az előjogat, tehát ők a szirénázó mentőt megállítják azért, mert ők át akarnak menni, és ez a true story, ezt láttuk.  Tehát, hogy teljesen agybaj az egész, én gyűlölettel néztem utána, hogy ma reggel a biciklimre, hogy úristen, én is ezek közé tartozok itthon.  Szóval nagyon-nagyon durva, hogyha valaki elmegy, akkor erre nagyon-nagyon figyeljen.  És emiatt én nem is béreltünk biciklit például, nem is így közlekedtünk, hanem sétáltunk mindenhova,  és ennek az lett a végeredmény, hogy minden egyes nap ilyen 20 kilométeres végösszeggel zártuk, tehát ilyen 30 ezer-25 ezer lépések voltak a számláról,  úgyhogy én nekem nagyon-nagyon fájnak most is a lábaim, meg a térdeim, meg nem is olyan cipőben mentem sajnosan, nem is ilyen kényelmes futó cipőből,  ilyenben, hanem csak gondoltam a szép utcai cipőmből megyek, ez egy nagyon rossz döntés volt.  Szép bakancsotban.  Hát, várj csak, az lett volna, úgyhogy ez így eléggé próbára tette az embert, viszont, hát amit meg lehetett nézni, azt megnéztük.  Persze a piroslámpás negyedet azt látni kell azonnal, és hát ott is ilyen, ott ugye tilos alkoholt fogyasztani az utcán,  tehát kint is van a tábla, hogy valami 150 vagy 100 eurós bírságot kapsz, ha téged ott egy sörrel látnak meg,  pont azért, hogy ne nagyon ribiliozzatok, mert túristával van tele ugye az egész.  A lányok ott táncolnak az ablakban, már délután amúgy, vagyis nem, hát néha táncolnak,  van, aki így gyűjti a kuncsavtokat, de a legáltalánosabb látkép, amit látsz ilyenkor,  hogy állnak az ablakban, telefonoznak és cigiznek.  Hát így, mintha mindig szüneten lennének, de hogyha észrevesznek egy pillanatnyi szemkontaktust,  akkor egyből nyitják, mert egy ilyen nagy üvegajtó mögött vannak, és ezt egyből bírják nyitni,  és akkor egyből hívnak be, hogy akkor 50 euró a kis dolog, 100 euró a nagy dolog,  ezt én csak hallottam, mi nem mentünk, de már mi elkölcsösek vagyunk,  de viszont a turisták meg tényleg azért úgy, hát mentek be, megjöttek ki,  másik dolog, hogy őket sem szabad fényképezni, ez minden egyes ablaknál kínva, hogy Lécsi, ne fotózzál, tisztelt a lányokat, minden,  úgyhogy ilyennek nem is próbálkozott szinte senki, aki meg igen, azt meg jól elzavarták, elég hamar,  meg hát nyilván ott árulják a kábítószert, tehát így folyamatosan jönnek-mennek a furcsa alakok,  és akkor kérdezgetik, hogy koká-koká-koká-koká, és egy ponton ezek engem rendőrnek néztek, nem tudom miért,  egyszerűen csak megálltam egy ponton, és odajött hozzám egy ilyen árus.'},\n",
       " {'start': 491.3,\n",
       "  'end': 499.1,\n",
       "  'speaker': 'Sorter',\n",
       "  'text': ' Lehet, hogy véletlenül azt mondtad, hangosabban a kelletén, hogy borítsuk kékbe a várost, vagy hogy hogy volt az, amilyen mondatabb a hídasfilmban?'},\n",
       " {'start': 499.1,\n",
       "  'end': 725.2,\n",
       "  'speaker': 'Gergő',\n",
       "  'text': ' Rengeteg híd van amúgy ráadásul Amsterdamban, ez az meg a másik, úgyhogy sivára megtörténhetett, de aztán így mondtam, hogy nem, nem vagyok rendőr,  és akkor egyszerűen csak felbukkadt egy másik dealer, aki így mondta, hogy már próbált eladni nekem, és nem vettem, úgyhogy biztos nem vagyok rendőr.  Igen, ilyen is volt. Azon kívül voltunk a Heineken gyárban, mert ugye az is egy ilyen Amsterdami székhelyű dolog,  és én azt hittem, hogy így a gyártósorok mentén fogunk menni, nézzük, ahogy pörögnek az üvegek, de nem,  hanem ez egy ilyen experience, tehát egy teljes élményt kapsz, ahol igen, látsz valamennyit az, hogy hol készítették az első adagot,  milyen alapanyagokat használnak, megnézheted ezeket a nagy rész tartályokat, nem tudom pontosan, hogy hívják őket,  amiben ugye erjesztik a sört, meg hogy ugye van egy ilyen különleges élesztő, amivel az az A-yeast,  ezt így hívták, ez az, amit ők alkalmaznak, az, hogy olyan legyen a sör, amilyen.  Nem is nagyon volt idegenvezetés, hanem csak így mehettél végig, és közben tervezhettél saját üveget,  tehát hogy konkrétan ilyen feliratokat csinálhattál egy helyenekenes üvegre, akkor ugye a focihoz elég komolyan kapcsolódik,  úgyhogy ott is voltak ilyen focis relikviák, csocsoasztalok, ilyen szabadrúgás-szimulátor, kb. hogy így rukhattál egyet a levegőben,  és úgy kiszámolt, hogy milyen erővel rukháltál, kb. Meg így lefényképezkedni lehetett, azt utána elküldték SMS-ben neked,  voltak szelfi sarkok, lehetett karaokizni, volt egy olyan rész, ahol ilyen kivetítőkkel szimulálták azt,  hogy mit lát egy sörös üveg a gyártósoron, és nektek be kellett állni, és így a falra ki volt vetítve,  hogy tényleg ott így gurul, vagy csúszik ott a soron, akkor hogy berakják a ládákba, elszállítják ide, aztán megisszik a Denny Elkréj James Bond szerepében.  Ez a egy bennepernak a nyitás, csak sörrel.  Igen, és te voltál az a sörös üveg, tehát kurva jó, meg volt csinálva, akkor ott kaptál be nem sört is, csak egy ilyen kis kostolót először,  ott elmondták, hogy vizet, hogy fogjuk, hogyan mondják ezt, hogy egészségedre, hogy ez a Prost,  és utána kaptatok egy karszalagot, és abban volt kettő ilyen kis zseton.  És a legvége ennek a túrnak, ennek a körútnak az az, hogy egy ilyen ekteszórakozó helyre, ami így a központon belül van kialakítva,  egy ilyen ledfények vannak, neonvilágítás, van pult, minden, szól a zene, és te meg mint egy diszkóban lenne, és ott megihatsz kettő sört.  És kurva nagy hangulata van az egésznek, és szinte táncoltak az emberek, hát annyi sört nem volt sajnos, hogy õ isten igazából elengedje magát mindenki,  de az egy annyira nagy flash volt, annyira elveszte mindenki, tehát így látszódott tényleg a látogatókon is,  úgyhogyha valaki a jövőben megy, akkor nagyon-nagyon jó szívvel tudom ajánlani, hogy fizessenek be rá, mert nagyon király.  Aztán második nap, vagyis hát így a hétfői program az a Fángok Múzeum volt,  mert ugye rengeteg festmények kivanállítva volt az életében, betenkintést lehet nyerni, rengeteg történet van, és nagyon-nagyon igényes, nagyon-nagyon szép,  sokkal szórakoztatóbb voltam, mint amire számítottam, meg ugye tényleg egy sovó mindent megtudhattunk róla,  úgyhogy kedvet is kaptam az, hogy a hároméves filmet, amit róla készítettek a Vilem Defóval, azt majd meg fogom nézni.  Én azt pont a napokban néztem, meg jó egyébként, egy kicsit ilyen művészieskedő, nem tudom neked, de az mennyire jön be.'},\n",
       " {'start': 725.2,\n",
       "  'end': 731.6,\n",
       "  'speaker': 'Sorter',\n",
       "  'text': ' Azt gondoltam, hogy az lesz, mert alapból a hatvanéves Vilem Defó játsza a Fángokot, aki 37 évesen halt meg.'},\n",
       " {'start': 731.6,\n",
       "  'end': 739.2,\n",
       "  'speaker': 'Gergő',\n",
       "  'text': ' Igen, igen, bár mondjuk nem úgy nézett ki, mint aki 37 éves a madonzságban, hogy a Vangok, azt azért együtt hozzá,'},\n",
       " {'start': 739.2,\n",
       "  'end': 745.2,\n",
       "  'speaker': 'Sorter',\n",
       "  'text': ' de jó film, a Defó nagyon, nagyon jó.  Valami rajzfilm is készült Fángokról, nem?'},\n",
       " {'start': 745.2,\n",
       "  'end': 750.8000000000001,\n",
       "  'speaker': 'FreddyD',\n",
       "  'text': ' Hú, azt nem tudom.  Ez a Vincent, vagy mi a fene?  Saint Vincent, nem, az más.'},\n",
       " {'start': 750.8000000000001,\n",
       "  'end': 753.8000000000001,\n",
       "  'speaker': 'Sorter',\n",
       "  'text': ' Az a Bill Murray-s film?  Nem, nem.'},\n",
       " {'start': 753.8000000000001,\n",
       "  'end': 759.4000000000001,\n",
       "  'speaker': 'FreddyD',\n",
       "  'text': ' De igazad van, amúgy, mert volt róla animációs film kategóriában talán, Oscarra is előlték?'}]"
      ]
     },
     "execution_count": 5,
     "metadata": {},
     "output_type": "execute_result"
    }
   ],
   "source": [
    "transcript[:10]"
   ]
  },
  {
   "cell_type": "code",
   "execution_count": null,
   "metadata": {},
   "outputs": [],
   "source": []
  }
 ],
 "metadata": {
  "kernelspec": {
   "display_name": "Python 3.10.7 ('filmbaradatok-El16Q7PP')",
   "language": "python",
   "name": "python3"
  },
  "language_info": {
   "codemirror_mode": {
    "name": "ipython",
    "version": 3
   },
   "file_extension": ".py",
   "mimetype": "text/x-python",
   "name": "python",
   "nbconvert_exporter": "python",
   "pygments_lexer": "ipython3",
   "version": "3.10.8 (main, Nov  1 2022, 14:18:21) [GCC 12.2.0]"
  },
  "orig_nbformat": 4,
  "vscode": {
   "interpreter": {
    "hash": "194bc8af2e3715bf45bd9aa9b908825cd8622bb1061f3747a99d41bb25715ea6"
   }
  }
 },
 "nbformat": 4,
 "nbformat_minor": 2
}
