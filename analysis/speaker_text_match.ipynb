{
 "cells": [
  {
   "cell_type": "code",
   "execution_count": 28,
   "metadata": {},
   "outputs": [],
   "source": [
    "import json\n",
    "from copy import deepcopy"
   ]
  },
  {
   "cell_type": "code",
   "execution_count": 3,
   "metadata": {},
   "outputs": [],
   "source": [
    "with open(\"data/text/whisper.json\", \"r\") as f:\n",
    "    whisper = json.load(f)"
   ]
  },
  {
   "cell_type": "code",
   "execution_count": 27,
   "metadata": {},
   "outputs": [],
   "source": [
    "with open(\"data/text/diarization.json\", \"r\") as f:\n",
    "    diarization = json.load(f)"
   ]
  },
  {
   "cell_type": "code",
   "execution_count": 56,
   "metadata": {},
   "outputs": [],
   "source": [
    "speaker_dict = {\n",
    "    \"SPEAKER_00\": \"Sorter\",\n",
    "    \"SPEAKER_01\": \"Blacksheep\",\n",
    "    \"SPEAKER_02\": \"Gergő\",\n",
    "    \"SPEAKER_03\": \"FreddyD\",\n",
    "}"
   ]
  },
  {
   "cell_type": "code",
   "execution_count": 57,
   "metadata": {},
   "outputs": [],
   "source": [
    "diary = deepcopy(diarization)\n",
    "\n",
    "transcript = []\n",
    "speaker = None\n",
    "for x in whisper:\n",
    "    new_start = x[\"start\"]\n",
    "    new_end = x[\"end\"]\n",
    "    new_text = x[\"text\"]\n",
    "    new_speaker = None\n",
    "    for i, y in enumerate(diary):\n",
    "        if new_start <= y[\"stop\"] and new_end >= y[\"start\"]:\n",
    "            new_speaker = speaker_dict[y[\"speaker\"]]\n",
    "            diary = diary[i:]\n",
    "            break\n",
    "    \n",
    "    # intro\n",
    "    if new_speaker is None:\n",
    "        continue\n",
    "    \n",
    "    # first speaker\n",
    "    if speaker is None:\n",
    "        speaker_start = new_start\n",
    "        speaker_end = new_end\n",
    "        speaker = new_speaker\n",
    "        speaker_text = new_text\n",
    "        continue\n",
    "    \n",
    "    # if old speaker is same as current speaker\n",
    "    if new_speaker == speaker:\n",
    "        speaker_text += \" \" + new_text\n",
    "        speaker_end = new_end\n",
    "    # else: speaker changed, add old speaker to transcript\n",
    "    else:\n",
    "        transcript.append({\"start\": speaker_start, \"end\": speaker_end, \"speaker\": speaker, \"text\": speaker_text})\n",
    "        speaker_start = new_start\n",
    "        speaker_end = new_end\n",
    "        speaker = new_speaker\n",
    "        speaker_text = new_text"
   ]
  },
  {
   "cell_type": "code",
   "execution_count": 60,
   "metadata": {},
   "outputs": [],
   "source": [
    "with open(\"analysis/transcript.json\", \"w\") as f:\n",
    "    json.dump(transcript, f, indent=4)"
   ]
  },
  {
   "cell_type": "code",
   "execution_count": null,
   "metadata": {},
   "outputs": [],
   "source": []
  }
 ],
 "metadata": {
  "kernelspec": {
   "display_name": "Python 3.10.7 ('filmbaradatok-El16Q7PP')",
   "language": "python",
   "name": "python3"
  },
  "language_info": {
   "codemirror_mode": {
    "name": "ipython",
    "version": 3
   },
   "file_extension": ".py",
   "mimetype": "text/x-python",
   "name": "python",
   "nbconvert_exporter": "python",
   "pygments_lexer": "ipython3",
   "version": "3.10.8 (main, Nov  1 2022, 14:18:21) [GCC 12.2.0]"
  },
  "orig_nbformat": 4,
  "vscode": {
   "interpreter": {
    "hash": "194bc8af2e3715bf45bd9aa9b908825cd8622bb1061f3747a99d41bb25715ea6"
   }
  }
 },
 "nbformat": 4,
 "nbformat_minor": 2
}
