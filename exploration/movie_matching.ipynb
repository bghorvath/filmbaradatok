{
 "cells": [
  {
   "cell_type": "code",
   "execution_count": 12,
   "metadata": {},
   "outputs": [],
   "source": [
    "import os\n",
    "import requests\n",
    "from preprocessing.rss_parser import RSSParser"
   ]
  },
  {
   "attachments": {},
   "cell_type": "markdown",
   "metadata": {},
   "source": [
    "### Parse RSS, create dictionary of episode names and their raw text topics"
   ]
  },
  {
   "cell_type": "code",
   "execution_count": 13,
   "metadata": {},
   "outputs": [
    {
     "name": "stderr",
     "output_type": "stream",
     "text": [
      "/home/biagio/.local/share/virtualenvs/filmbaradatok-El16Q7PP/lib/python3.10/site-packages/bs4/builder/__init__.py:545: XMLParsedAsHTMLWarning: It looks like you're parsing an XML document using an HTML parser. If this really is an HTML document (maybe it's XHTML?), you can ignore or filter this warning. If it's XML, you should know that using an XML parser will be more reliable. To parse this document as XML, make sure you have the lxml package installed, and pass the keyword argument `features=\"xml\"` into the BeautifulSoup constructor.\n",
      "  warnings.warn(\n"
     ]
    }
   ],
   "source": [
    "parser = RSSParser(\"data/misc/episodes.rss\")\n",
    "\n",
    "episode_topics = {}\n",
    "for filename in parser.episode_dict:\n",
    "    episode_topics[filename] = parser.get_topics(filename)"
   ]
  },
  {
   "attachments": {},
   "cell_type": "markdown",
   "metadata": {},
   "source": [
    "#### Exclude hand-picked topics that are not movies or TV shows"
   ]
  },
  {
   "cell_type": "code",
   "execution_count": 7,
   "metadata": {},
   "outputs": [],
   "source": [
    "exclude_topics = {\n",
    "    \"borítóképek\",\n",
    "    \"nép akarata sorsolás\",\n",
    "    \"villámkérdések\",\n",
    "    \"felvezető\",\n",
    "    \"filmbarátok zárthelyi\"\n",
    "}"
   ]
  },
  {
   "cell_type": "code",
   "execution_count": 11,
   "metadata": {},
   "outputs": [
    {
     "data": {
      "text/plain": [
       "['aquaman',\n",
       " 'gengszterosztag',\n",
       " 'patriots day',\n",
       " 'desierto az ördög országútja',\n",
       " 'class of 1984',\n",
       " 'ryan közlegény megmentése',\n",
       " 'az útvesztő tűzpróba',\n",
       " 'tetovált lány usa',\n",
       " 'szellemirtók 2016',\n",
       " 'kaliforniai álom']"
      ]
     },
     "execution_count": 11,
     "metadata": {},
     "output_type": "execute_result"
    }
   ],
   "source": [
    "title_set = set()\n",
    "for k,v in episode_topics.items():\n",
    "    {title_set.add(t[0]) for t in v if not any(topic in t[0].lower() for topic in exclude_topics)}\n",
    "\n",
    "list(title_set)[:10]"
   ]
  },
  {
   "attachments": {},
   "cell_type": "markdown",
   "metadata": {},
   "source": [
    "### Search for the titles using TMDB API and get IMDB link"
   ]
  },
  {
   "cell_type": "code",
   "execution_count": 14,
   "metadata": {},
   "outputs": [],
   "source": [
    "with open(os.path.join(\"data\", \"misc\", \"tmdb.token\"),\"r\") as f:\n",
    "    tmdb_api_key = f.read().strip()"
   ]
  },
  {
   "cell_type": "code",
   "execution_count": 16,
   "metadata": {},
   "outputs": [
    {
     "name": "stdout",
     "output_type": "stream",
     "text": [
      "aquaman https://www.imdb.com/title/tt1477834\n",
      "gengszterosztag https://www.imdb.com/title/tt1321870\n",
      "patriots day https://www.imdb.com/title/tt4572514\n",
      "desierto az ördög országútja https://www.imdb.com/title/tt3147312\n",
      "class of 1984 https://www.imdb.com/title/tt0083739\n",
      "ryan közlegény megmentése https://www.imdb.com/title/tt0120815\n",
      "az útvesztő tűzpróba https://www.imdb.com/title/tt4046784\n",
      "kaliforniai álom https://www.imdb.com/title/tt3783958\n"
     ]
    }
   ],
   "source": [
    "for title in list(title_set)[:10]:\n",
    "    query = title.replace(\" \", \"+\")\n",
    "    tmdb_search = f\"https://api.themoviedb.org/3/search/movie?api_key={tmdb_api_key}&query={query}\"\n",
    "    response = requests.get(tmdb_search)\n",
    "    results = response.json()[\"results\"] if response.status_code == 200 else []\n",
    "    if len(results) > 0:\n",
    "        tmdb_id = sorted(results, key=lambda x: x[\"popularity\"], reverse=True)[0][\"id\"]\n",
    "        tmdb_movie = f\"https://api.themoviedb.org/3/movie/{tmdb_id}?api_key={tmdb_api_key}\"\n",
    "        response = requests.get(tmdb_movie)\n",
    "        if response.status_code == 200:\n",
    "            movie = response.json()\n",
    "            imdb_id = movie[\"imdb_id\"]\n",
    "            imdb_movie = f\"https://www.imdb.com/title/{imdb_id}\"\n",
    "            print(title, imdb_movie)"
   ]
  },
  {
   "cell_type": "code",
   "execution_count": null,
   "metadata": {},
   "outputs": [],
   "source": []
  }
 ],
 "metadata": {
  "kernelspec": {
   "display_name": "filmbaradatok-El16Q7PP",
   "language": "python",
   "name": "python3"
  },
  "language_info": {
   "codemirror_mode": {
    "name": "ipython",
    "version": 3
   },
   "file_extension": ".py",
   "mimetype": "text/x-python",
   "name": "python",
   "nbconvert_exporter": "python",
   "pygments_lexer": "ipython3",
   "version": "3.10.8"
  },
  "orig_nbformat": 4,
  "vscode": {
   "interpreter": {
    "hash": "194bc8af2e3715bf45bd9aa9b908825cd8622bb1061f3747a99d41bb25715ea6"
   }
  }
 },
 "nbformat": 4,
 "nbformat_minor": 2
}
