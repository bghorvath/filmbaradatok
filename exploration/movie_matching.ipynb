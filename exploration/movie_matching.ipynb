{
 "cells": [
  {
   "cell_type": "code",
   "execution_count": 2,
   "metadata": {},
   "outputs": [],
   "source": [
    "import os\n",
    "import json\n",
    "from tqdm import tqdm\n",
    "import requests\n",
    "from preprocessing.rss_parser import RSSParser"
   ]
  },
  {
   "attachments": {},
   "cell_type": "markdown",
   "metadata": {},
   "source": [
    "### Parse RSS, create dictionary of episode names and their raw text topics"
   ]
  },
  {
   "cell_type": "code",
   "execution_count": 3,
   "metadata": {},
   "outputs": [
    {
     "name": "stderr",
     "output_type": "stream",
     "text": [
      "/home/biagio/.local/share/virtualenvs/filmbaradatok-El16Q7PP/lib/python3.10/site-packages/bs4/builder/__init__.py:545: XMLParsedAsHTMLWarning: It looks like you're parsing an XML document using an HTML parser. If this really is an HTML document (maybe it's XHTML?), you can ignore or filter this warning. If it's XML, you should know that using an XML parser will be more reliable. To parse this document as XML, make sure you have the lxml package installed, and pass the keyword argument `features=\"xml\"` into the BeautifulSoup constructor.\n",
      "  warnings.warn(\n"
     ]
    }
   ],
   "source": [
    "parser = RSSParser(\"data/misc/episodes.rss\")()\n",
    "\n",
    "episode_topics = {}\n",
    "for filename, ep_dict in parser.episodes_dict.items():\n",
    "    episode_topics[filename] = parser.get_topics(ep_dict)"
   ]
  },
  {
   "attachments": {},
   "cell_type": "markdown",
   "metadata": {},
   "source": [
    "#### Exclude hand-picked topics that are not movies or TV shows"
   ]
  },
  {
   "cell_type": "code",
   "execution_count": 4,
   "metadata": {},
   "outputs": [],
   "source": [
    "exclude_topics = {\n",
    "    \"borítókép\",\n",
    "    \"sorsolás\",\n",
    "    \"villámkérdés\",\n",
    "    \"felvezető\",\n",
    "    \"zárthelyi\",\n",
    "    \"filmév\",\n",
    "    \"filmbarátok\",\n",
    "    \"oscar\",\n",
    "    \"évösszegzés\",\n",
    "}"
   ]
  },
  {
   "cell_type": "code",
   "execution_count": 5,
   "metadata": {},
   "outputs": [],
   "source": [
    "title_set = set()\n",
    "for k,v in episode_topics.items():\n",
    "    {title_set.add(t[\"topic\"]) for t in v if not any(topic in t[\"topic\"] for topic in exclude_topics)}"
   ]
  },
  {
   "attachments": {},
   "cell_type": "markdown",
   "metadata": {},
   "source": [
    "### Search for the titles using TMDB API and get IMDB link"
   ]
  },
  {
   "cell_type": "code",
   "execution_count": 6,
   "metadata": {},
   "outputs": [],
   "source": [
    "tmdb_api_key = os.environ[\"TMDB_TOKEN\"]"
   ]
  },
  {
   "cell_type": "code",
   "execution_count": 7,
   "metadata": {},
   "outputs": [
    {
     "name": "stderr",
     "output_type": "stream",
     "text": [
      "100%|██████████| 1652/1652 [43:36<00:00,  1.58s/it] \n"
     ]
    }
   ],
   "source": [
    "movie_url_dict = {}\n",
    "not_found_dict = {}\n",
    "\n",
    "for title in tqdm(title_set):\n",
    "    query = title.replace(\" \", \"+\")\n",
    "    tmdb_search = f\"https://api.themoviedb.org/3/search/movie?api_key={tmdb_api_key}&query={query}\"\n",
    "    response = requests.get(tmdb_search)\n",
    "    if response.status_code != 200:\n",
    "        not_found_dict[title] = f\"Tmdb search error: {response.status_code} - {response.text}\"\n",
    "        continue\n",
    "    results = response.json()[\"results\"]\n",
    "    if len(results) == 0:\n",
    "        not_found_dict[title] = \"Tmdb search error: No results\"\n",
    "        continue\n",
    "    tmdb_id = sorted(results, key=lambda x: x[\"popularity\"], reverse=True)[0][\"id\"]\n",
    "    tmdb_url = f\"https://api.themoviedb.org/3/movie/{tmdb_id}?api_key={tmdb_api_key}\"\n",
    "    response = requests.get(tmdb_url)\n",
    "    if response.status_code != 200:\n",
    "        not_found_dict[title] = f\"Tmdb movie lookup error: {response.status_code} - {response.text}\"\n",
    "        continue\n",
    "    movie = response.json()\n",
    "    imdb_id = movie.get(\"imdb_id\")\n",
    "    if imdb_id is None:\n",
    "        not_found_dict[title] = \"Tmdb movie lookup error: No imdb id\"\n",
    "        continue\n",
    "    imdb_url = f\"https://www.imdb.com/title/{imdb_id}\"\n",
    "    movie_url_dict[title] = imdb_url"
   ]
  },
  {
   "cell_type": "code",
   "execution_count": 15,
   "metadata": {},
   "outputs": [
    {
     "data": {
      "text/plain": [
       "[('az elátkozott leeds united', 'https://www.imdb.com/title/tt1226271'),\n",
       " ('a vihar kapujában', 'https://www.imdb.com/title/tt0042876'),\n",
       " ('éjféli etetés', 'https://www.imdb.com/title/tt0805570'),\n",
       " ('cam', 'https://www.imdb.com/title/tt13496400'),\n",
       " ('palmer', 'https://www.imdb.com/title/tt6857376'),\n",
       " ('the green inferno', 'https://www.imdb.com/title/tt2403021'),\n",
       " ('csúcshatás', 'https://www.imdb.com/title/tt1219289'),\n",
       " ('mulan', 'https://www.imdb.com/title/tt0120762'),\n",
       " ('straight outta compton', 'https://www.imdb.com/title/tt1398426'),\n",
       " ('asterix a varázsital titka', 'https://www.imdb.com/title/tt8001346')]"
      ]
     },
     "execution_count": 15,
     "metadata": {},
     "output_type": "execute_result"
    }
   ],
   "source": [
    "list(movie_url_dict.items())[:10]"
   ]
  },
  {
   "cell_type": "code",
   "execution_count": 11,
   "metadata": {},
   "outputs": [],
   "source": [
    "with open(\"data/misc/episode_topics.json\", \"w\") as file:\n",
    "    json.dump(episode_topics, file, indent=4, ensure_ascii=False)"
   ]
  },
  {
   "cell_type": "code",
   "execution_count": 12,
   "metadata": {},
   "outputs": [],
   "source": [
    "with open(\"data/misc/not_found.json\", \"w\") as file:\n",
    "    json.dump(not_found_dict, file, indent=4, ensure_ascii=False)"
   ]
  }
 ],
 "metadata": {
  "kernelspec": {
   "display_name": "filmbaradatok-El16Q7PP",
   "language": "python",
   "name": "python3"
  },
  "language_info": {
   "codemirror_mode": {
    "name": "ipython",
    "version": 3
   },
   "file_extension": ".py",
   "mimetype": "text/x-python",
   "name": "python",
   "nbconvert_exporter": "python",
   "pygments_lexer": "ipython3",
   "version": "3.10.8"
  },
  "orig_nbformat": 4,
  "vscode": {
   "interpreter": {
    "hash": "194bc8af2e3715bf45bd9aa9b908825cd8622bb1061f3747a99d41bb25715ea6"
   }
  }
 },
 "nbformat": 4,
 "nbformat_minor": 2
}
