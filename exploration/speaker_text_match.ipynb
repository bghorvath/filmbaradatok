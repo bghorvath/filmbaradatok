{
 "cells": [
  {
   "cell_type": "code",
   "execution_count": 1,
   "metadata": {},
   "outputs": [],
   "source": [
    "import json\n",
    "from copy import deepcopy"
   ]
  },
  {
   "cell_type": "code",
   "execution_count": 3,
   "metadata": {},
   "outputs": [],
   "source": [
    "with open(\"../data/text/240_sampled_transcript.json\", \"r\") as f:\n",
    "    whisper = json.load(f)"
   ]
  },
  {
   "cell_type": "code",
   "execution_count": 4,
   "metadata": {},
   "outputs": [],
   "source": [
    "with open(\"../data/text/240_sampled.json\", \"r\") as f:\n",
    "    diarization = json.load(f)"
   ]
  },
  {
   "cell_type": "code",
   "execution_count": null,
   "metadata": {},
   "outputs": [],
   "source": [
    "texts = []\n",
    "for x in whisper:\n",
    "    new_start = x[\"start\"]\n",
    "    new_end = x[\"end\"]\n",
    "    new_text = x[\"text\"]\n",
    "    if text[-1] == \",\" and new_text[0].isupper():\n",
    "        text += new_text\n",
    "        end = new_end\n",
    "        continue\n",
    "    texts.append(\n",
    "        {\n",
    "            \"start\": start,\n",
    "            \"end\": end,\n",
    "            \"text\": text,\n",
    "        }\n",
    "    )\n",
    "    start = new_start\n",
    "    end = new_end\n",
    "    text = new_text"
   ]
  },
  {
   "cell_type": "code",
   "execution_count": 11,
   "metadata": {},
   "outputs": [],
   "source": [
    "diary = deepcopy(diarization)\n",
    "\n",
    "transcript = []\n",
    "speaker = None\n",
    "for x in whisper:\n",
    "    new_start = x[\"start\"]\n",
    "    new_end = x[\"end\"]\n",
    "    new_text = x[\"text\"]\n",
    "    new_speaker = None\n",
    "    new_speaker_dict = {}\n",
    "    for i, y in enumerate(diary):\n",
    "        if  y[\"stop\"] < new_start:\n",
    "            diary.pop(i)\n",
    "        elif new_start <= y[\"stop\"] and new_end >= y[\"start\"]:\n",
    "            speaker_duration = max(y[\"start\"],new_start) - min(y[\"stop\"], new_end)\n",
    "            new_speaker = y[\"speaker\"]\n",
    "            new_speaker_dict[new_speaker] = new_speaker_dict.get(new_speaker, 0) + speaker_duration\n",
    "        elif new_end < y[\"start\"]:\n",
    "            break\n",
    "    new_speaker = max(new_speaker_dict, key=new_speaker_dict.get) if len(new_speaker_dict) > 0 else \"Unknown\"\n",
    "    \n",
    "    # first speaker\n",
    "    if speaker is None:\n",
    "        speaker_start = new_start\n",
    "        speaker_end = new_end\n",
    "        speaker = new_speaker\n",
    "        speaker_text = new_text\n",
    "    \n",
    "    # if old speaker is same as current speaker\n",
    "    if new_speaker == speaker:\n",
    "        speaker_text += \" \" + new_text\n",
    "        speaker_end = new_end\n",
    "    # else: speaker changed, add old speaker to transcript\n",
    "    else:\n",
    "        transcript.append({\"start\": speaker_start, \"end\": speaker_end, \"speaker\": speaker, \"text\": speaker_text})\n",
    "        speaker_start = new_start\n",
    "        speaker_end = new_end\n",
    "        speaker = new_speaker\n",
    "        speaker_text = new_text"
   ]
  },
  {
   "cell_type": "code",
   "execution_count": null,
   "metadata": {},
   "outputs": [],
   "source": [
    "speaker_dict = {\n",
    "    \"SPEAKER_00\": \"Sorter\",\n",
    "    \"SPEAKER_01\": \"Blacksheep\",\n",
    "    \"SPEAKER_02\": \"Gergő\",\n",
    "    \"SPEAKER_03\": \"FreddyD\",\n",
    "}"
   ]
  },
  {
   "cell_type": "code",
   "execution_count": null,
   "metadata": {},
   "outputs": [],
   "source": []
  }
 ],
 "metadata": {
  "kernelspec": {
   "display_name": "filmbaradatok",
   "language": "python",
   "name": "python3"
  },
  "language_info": {
   "codemirror_mode": {
    "name": "ipython",
    "version": 3
   },
   "file_extension": ".py",
   "mimetype": "text/x-python",
   "name": "python",
   "nbconvert_exporter": "python",
   "pygments_lexer": "ipython3",
   "version": "3.9.13"
  },
  "orig_nbformat": 4,
  "vscode": {
   "interpreter": {
    "hash": "cfc2062776860d73d3cda20357702a2f46fc8b3f5c72fc96a68e61bf61ab314f"
   }
  }
 },
 "nbformat": 4,
 "nbformat_minor": 2
}
