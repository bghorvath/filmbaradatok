{
 "cells": [
  {
   "cell_type": "code",
   "execution_count": 1,
   "metadata": {},
   "outputs": [],
   "source": [
    "import re\n",
    "import requests\n",
    "from tqdm import tqdm\n",
    "from bs4 import BeautifulSoup as bs"
   ]
  },
  {
   "cell_type": "code",
   "execution_count": 2,
   "metadata": {},
   "outputs": [
    {
     "name": "stderr",
     "output_type": "stream",
     "text": [
      "/home/biagio/.local/share/virtualenvs/filmbaradatok-El16Q7PP/lib/python3.10/site-packages/bs4/builder/__init__.py:545: XMLParsedAsHTMLWarning: It looks like you're parsing an XML document using an HTML parser. If this really is an HTML document (maybe it's XHTML?), you can ignore or filter this warning. If it's XML, you should know that using an XML parser will be more reliable. To parse this document as XML, make sure you have the lxml package installed, and pass the keyword argument `features=\"xml\"` into the BeautifulSoup constructor.\n",
      "  warnings.warn(\n"
     ]
    }
   ],
   "source": [
    "with open(\"sounds.rss\", \"r\") as file:\n",
    "    content = file.readlines()\n",
    "    content = \"\".join(content)\n",
    "    bs_content = bs(content, \"lxml\")"
   ]
  },
  {
   "cell_type": "code",
   "execution_count": 3,
   "metadata": {},
   "outputs": [],
   "source": [
    "items = bs_content.find(\"channel\").find_all(\"item\")\n",
    "\n",
    "eps = []\n",
    "for item in items:\n",
    "    title = item.find(\"title\").text\n",
    "    pubdate = item.find(\"pubdate\").text\n",
    "    description = item.find(\"description\").text\n",
    "    link = item.find(\"link\").text\n",
    "    download = item.find(\"enclosure\").get(\"url\")\n",
    "    eps.append({\"title\": title, \"pubdate\": pubdate, \"description\": description, \"link\": link, \"download\": download})"
   ]
  },
  {
   "cell_type": "code",
   "execution_count": 4,
   "metadata": {},
   "outputs": [],
   "source": [
    "for x in eps:\n",
    "    epno = re.search(r\"#\\d+\", x[\"title\"])\n",
    "    if epno:\n",
    "        x[\"epno\"] = int(epno.group(0)[1:])\n",
    "\n",
    "eps = [x for x in eps if \"epno\" in x]"
   ]
  },
  {
   "cell_type": "code",
   "execution_count": 5,
   "metadata": {},
   "outputs": [
    {
     "name": "stderr",
     "output_type": "stream",
     "text": [
      "100%|██████████| 241/241 [27:22<00:00,  6.82s/it]\n"
     ]
    }
   ],
   "source": [
    "for x in tqdm(eps):\n",
    "    r = requests.get(x[\"download\"])\n",
    "    with open(f\"../source/audio/{x['epno']}.mp3\", \"wb\") as file:\n",
    "        file.write(r.content)"
   ]
  }
 ],
 "metadata": {
  "kernelspec": {
   "display_name": "Python 3.10.7 ('filmbaradatok-El16Q7PP')",
   "language": "python",
   "name": "python3"
  },
  "language_info": {
   "codemirror_mode": {
    "name": "ipython",
    "version": 3
   },
   "file_extension": ".py",
   "mimetype": "text/x-python",
   "name": "python",
   "nbconvert_exporter": "python",
   "pygments_lexer": "ipython3",
   "version": "3.10.7"
  },
  "orig_nbformat": 4,
  "vscode": {
   "interpreter": {
    "hash": "194bc8af2e3715bf45bd9aa9b908825cd8622bb1061f3747a99d41bb25715ea6"
   }
  }
 },
 "nbformat": 4,
 "nbformat_minor": 2
}
